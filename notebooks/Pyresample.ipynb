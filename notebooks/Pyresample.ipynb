{
 "cells": [
  {
   "cell_type": "markdown",
   "metadata": {},
   "source": [
    "# Pyresample\n",
    "> Pyresample is a Python package for resampling (reprojection) of earth observing satellite data. Pyresample handles both resampling of gridded data (e.g. geostationary satellites) and swath data (polar orbiting satellites). Pyresample can use multiple processor cores for resampling. Pyresample supports masked arrays.\n",
    "\n",
    "[Documentation](https://pyresample.readthedocs.io/en/latest/)\n"
   ]
  },
  {
   "cell_type": "markdown",
   "metadata": {},
   "source": [
    "## Let's get the data\n",
    "If you have not got MODIS data, go to SatPy notebook\n",
    "We will use satpy to load the data\n",
    "but we won't use it here for anything else"
   ]
  },
  {
   "cell_type": "code",
   "execution_count": null,
   "metadata": {},
   "outputs": [],
   "source": [
    "from satpy import Scene\n",
    "import glob\n",
    "\n",
    "filenames = glob.glob('./M*238.1435')\n",
    "scn = Scene(reader='hdfeos_l1b',\n",
    "            filenames=filenames)\n",
    "\n",
    "scn.load(['1',\n",
    "          'latitude',\n",
    "          'longitude'])"
   ]
  },
  {
   "cell_type": "code",
   "execution_count": null,
   "metadata": {},
   "outputs": [],
   "source": [
    "lons = scn.datasets['longitude'].data\n",
    "lats = scn.datasets['latitude'].data\n",
    "data = scn.datasets['1'].data"
   ]
  },
  {
   "cell_type": "markdown",
   "metadata": {},
   "source": [
    "# Resampling\n",
    "`SwathDefinition`, `AreaDefinition`, `GridDefinition` - classes that describe the grid geometry and cartographic projection.\n",
    "\n",
    "* `SwathDefinition` - irregular grid\n",
    "* `AreaDefinition` - regular grid in cartographic projection\n",
    "* `GridDefinition` - regular grid in geographic coordinates"
   ]
  },
  {
   "cell_type": "code",
   "execution_count": null,
   "metadata": {},
   "outputs": [],
   "source": [
    "# Resample swath to area\n",
    "from pyresample import kd_tree\n",
    "\n",
    "%timeit result = kd_tree.resample_nearest(swath_def, data, area_def, radius_of_influence=2000, epsilon=0.5)"
   ]
  },
  {
   "cell_type": "code",
   "execution_count": null,
   "metadata": {},
   "outputs": [],
   "source": [
    "import numpy as np\n",
    "from pyresample.geometry import SwathDefinition, GridDefinition, AreaDefinition\n",
    "\n",
    "# Define swath grid\n",
    "swath_def = SwathDefinition(lons=lons, lats=lats)\n",
    "\n",
    "# Define area\n",
    "area_def = AreaDefinition(area_extent=(-2056956.074, 539336.813,\n",
    "                                        1097748.327,-2586425.345),\n",
    "                          proj_dict=dict(proj=\"stere\",\n",
    "                                         ellps=\"WGS84\",\n",
    "                                         lat_0=\"90\",\n",
    "                                         lon_0=\"20\",\n",
    "                                         lat_ts=\"75\",),\n",
    "                           x_size=1000,\n",
    "                           y_size=1000,\n",
    "                           proj_id='foo',\n",
    "                           area_id='bar',\n",
    "                           name='foo')\n",
    "\n",
    "# Define geographic grid\n",
    "x, y = np.meshgrid(\n",
    "            np.arange(-40, 20, 0.01),\n",
    "            np.arange(70, 85, 0.01))\n",
    "\n",
    "grid_def = GridDefinition(lons=x,\n",
    "                          lats=y)"
   ]
  },
  {
   "cell_type": "markdown",
   "metadata": {},
   "source": [
    "### Split resampling in two steps: find neighbours and retrieve resampling results\n"
   ]
  },
  {
   "cell_type": "code",
   "execution_count": null,
   "metadata": {},
   "outputs": [],
   "source": [
    "\n",
    "%timeit valid_input_index, valid_output_index, index_array, distance_array = \\\n",
    "                       kd_tree.get_neighbour_info(swath_def, area_def, 2000, neighbours=1)\n",
    "\n",
    "%timeit result = kd_tree.get_sample_from_neighbour_info('nn', area_def.shape, data, valid_input_index, valid_output_index, index_array)\n"
   ]
  },
  {
   "cell_type": "markdown",
   "metadata": {},
   "source": [
    "### Resampling with uncertainty (weighted stddev) estimates"
   ]
  },
  {
   "cell_type": "code",
   "execution_count": null,
   "metadata": {},
   "outputs": [],
   "source": [
    "from pyresample.utils import fwhm2sigma\n",
    "result, stddev, count = kd_tree.resample_gauss(swath_def, data, area_def,\n",
    "                                               radius_of_influence=1000,\n",
    "                                               sigmas=fwhm2sigma(2000),\n",
    "                                               fill_value=None, with_uncert=True)\n",
    "\n"
   ]
  },
  {
   "cell_type": "markdown",
   "metadata": {},
   "source": [
    "### Resampling from swath to swath\n",
    "KDTree supports resampling from irregular to irregular grids, therefore it's possible to resample from swath to swath\n",
    "\n",
    "Now let's get data for the same area from [different orbit](https://lance-modis.eosdis.nasa.gov/cgi-bin/imagery/single.cgi?image=crefl1_143.A2017238130000-2017238130500.2km.jpg)"
   ]
  },
  {
   "cell_type": "code",
   "execution_count": null,
   "metadata": {},
   "outputs": [],
   "source": [
    "# Get more data (geolocation only this time)\n",
    "!wget -c ftp://ladsweb.nascom.nasa.gov/allData/61/MOD03/2017/238/MOD03.A2017238.1300.061.2017317001639.hdf\n"
   ]
  },
  {
   "cell_type": "code",
   "execution_count": null,
   "metadata": {},
   "outputs": [],
   "source": [
    "scn = Scene(reader='hdfeos_l1b',\n",
    "            filenames=glob.glob('./MOD03.A2017238.1300.061.2017317001639.hdf'))\n",
    "scn.load(['latitude', 'longitude'])\n",
    "lon_other = scn.datasets['longitude']\n",
    "lat_other = scn.datasets['latitude']\n",
    "swath_def_other = SwathDefinition(lons=lon_other, lats=lat_other)"
   ]
  },
  {
   "cell_type": "code",
   "execution_count": null,
   "metadata": {},
   "outputs": [],
   "source": [
    "%timeit result = kd_tree.resample_nearest(swath_def, data, swath_def_other, radius_of_influence=2000, epsilon=0.5)"
   ]
  }
 ],
 "metadata": {
  "kernelspec": {
   "display_name": "Python 2",
   "language": "python",
   "name": "python2"
  },
  "language_info": {
   "codemirror_mode": {
    "name": "ipython",
    "version": 2
   },
   "file_extension": ".py",
   "mimetype": "text/x-python",
   "name": "python",
   "nbconvert_exporter": "python",
   "pygments_lexer": "ipython2",
   "version": "2.7.14"
  }
 },
 "nbformat": 4,
 "nbformat_minor": 2
}
