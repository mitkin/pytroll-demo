{
 "cells": [
  {
   "cell_type": "markdown",
   "metadata": {},
   "source": [
    "# SatPy: a tool for handling scenes and overpasses\n",
    "\n",
    "Objects you need to know about:\n",
    "\n",
    "* Scene\n",
    "* Dataset\n",
    "* DatasetId\n",
    "\n",
    "`Scene` is a high level object that can read/modify/resample/plot satellite observations.\n",
    "`Dataset` is a container for the particular observations. Child of Numpy Masked array.\n",
    "`DatasetId` is a tuple with observations identifiers."
   ]
  },
  {
   "cell_type": "markdown",
   "metadata": {},
   "source": [
    "# Obtain MODIS 1KM datasets\n",
    "\n",
    "LAADS WEB provides access to the 5 minute MODIS granules over Svalbard and Greenladn. Here we get to work with these two: \n",
    "* [2017-08-26 14:35](https://lance-modis.eosdis.nasa.gov/cgi-bin/imagery/single.cgi?image=crefl1_143.A2017238143500-2017238144000.2km.jpg)\n",
    "* [2017-08-26 14:40](https://lance-modis.eosdis.nasa.gov/cgi-bin/imagery/single.cgi?image=crefl1_143.A2017238144000-2017238144500.2km.jpg)"
   ]
  },
  {
   "cell_type": "code",
   "execution_count": null,
   "metadata": {},
   "outputs": [],
   "source": [
    "# get the data\n",
    "#!wget -c ftp://ladsweb.nascom.nasa.gov/allData/61/MOD03/2017/238/MOD03*.A2017238.1435.061.2017317001541.hdf\n",
    "#!wget -c ftp://ladsweb.nascom.nasa.gov/allData/61/MOD021KM/2017/238/MOD021KM.A2017238.1435.061.2017317012902.hdf\n",
    "#!wget -c ftp://ladsweb.nascom.nasa.gov/allData/61/MOD03/2017/238/MOD03.A2017238.1440.061.*.hdf\n",
    "#!wget -c ftp://ladsweb.nascom.nasa.gov/allData/61/MOD021KM/2017/238/MOD021KM.A2017238.1440.061.*.hdf\n",
    "#!wget -c ftp://ladsweb.nascom.nasa.gov/allData/61/MOD03/2017/238/MOD03.A2017238.1300.061.*.hdf\n",
    "!wget -c ftp://ladsweb.nascom.nasa.gov/allData/61/MOD021KM/2017/238/MOD021KM.A2017238.1300.061.*.hdf\n",
    " \n"
   ]
  },
  {
   "cell_type": "markdown",
   "metadata": {},
   "source": [
    "# Selecting scenes/observations from disk\n",
    "\n",
    "The data can be selected either directly using keyword arguments `filenames` and `reader` or indirectly using `sensor`, `basedir` and `start_time`/`end_time`.\n"
   ]
  },
  {
   "cell_type": "code",
   "execution_count": null,
   "metadata": {},
   "outputs": [],
   "source": [
    "from satpy import Scene\n",
    "from satpy.utils import debug_on\n",
    "from datetime import datetime\n",
    "import glob\n",
    "\n",
    "debug_on()\n",
    "\n",
    "scn = Scene(platform_name=\"Terra\", sensor=\"modis\",\n",
    "                base_dir=\".\",\n",
    "                reader='hdfeos_l1b',\n",
    "                start_time=datetime(2017, 8, 26, 14, 35),\n",
    "                end_time=datetime(2017, 8, 26, 14, 45))\n",
    "\n",
    "#scn.load(['true_color'])\n",
    "#scn.show('true_color')"
   ]
  },
  {
   "cell_type": "code",
   "execution_count": null,
   "metadata": {},
   "outputs": [],
   "source": [
    "resampled_scene = scn.resample('sval')\n",
    "resampled_scene.show('true_color')\n",
    "resampled_scene.save_dataset('true_color', filename='tc.tif')"
   ]
  },
  {
   "cell_type": "code",
   "execution_count": null,
   "metadata": {},
   "outputs": [],
   "source": [
    "from datetime import datetime\n",
    "from satpy.scene import Scene\n",
    "from satpy.utils import debug_on\n",
    "from satpy.utils import logging_off\n",
    "# debug_on()\n",
    "logging_off()\n",
    "start_time = datetime(2017,12,2)\n",
    "\n",
    "scn = Scene(\n",
    "        sensors='sar-c',\n",
    "        reader='sar_c',\n",
    "        start_time=start_time,\n",
    "        base_dir=\"../\")"
   ]
  },
  {
   "cell_type": "markdown",
   "metadata": {},
   "source": [
    "# Explore what is available for the S1 scene\n"
   ]
  },
  {
   "cell_type": "code",
   "execution_count": null,
   "metadata": {},
   "outputs": [],
   "source": [
    "# Available datasets\n",
    "print(scn.available_dataset_names())\n",
    "\n",
    "# Available composites\n",
    "print(scn.available_composite_names())\n"
   ]
  },
  {
   "cell_type": "markdown",
   "metadata": {},
   "source": [
    "# Specify dataset explicitly via DatasetID"
   ]
  },
  {
   "cell_type": "code",
   "execution_count": null,
   "metadata": {},
   "outputs": [],
   "source": [
    "from satpy import DatasetID\n",
    "\n",
    "# Give example of using DatasetID\n",
    "dst_id = DatasetID(name='measurement', polarization='hv')\n",
    "scn.load([dst_id])\n",
    "# Load and access the data"
   ]
  },
  {
   "cell_type": "code",
   "execution_count": null,
   "metadata": {},
   "outputs": [],
   "source": [
    "scn.datasets.keys()\n",
    "scn.save_dataset(dst_id, filename='hv.tif')"
   ]
  },
  {
   "cell_type": "markdown",
   "metadata": {},
   "source": [
    "# Access the data"
   ]
  },
  {
   "cell_type": "code",
   "execution_count": null,
   "metadata": {},
   "outputs": [],
   "source": [
    "# How to access the data/coordinates?\n"
   ]
  },
  {
   "cell_type": "markdown",
   "metadata": {},
   "source": [
    "# Resample original data to a regular grid"
   ]
  },
  {
   "cell_type": "code",
   "execution_count": null,
   "metadata": {},
   "outputs": [],
   "source": [
    "from pyresample import geometry\n",
    "\n",
    "area_def = geometry.AreaDefinition(area_extent=(-2056956.074, 539336.813,\n",
    "                                                 1097748.327,-2586425.345),\n",
    "                                   proj_dict=dict(proj=\"stere\",\n",
    "                                                   ellps=\"WGS84\",\n",
    "                                                   lat_0=\"90\",\n",
    "                                                   lon_0=\"20\",\n",
    "                                                   lat_ts=\"75\",),\n",
    "                                   x_size=1000,\n",
    "                                   y_size=1000,\n",
    "                                   proj_id='foo',\n",
    "                                   area_id='bar',\n",
    "                                   name='foo')\n",
    "\n",
    "\n",
    "rs = scn.resample(area_def)\n",
    "rs.save_dataset(dst_id, filename='hv.tif')"
   ]
  },
  {
   "cell_type": "markdown",
   "metadata": {},
   "source": [
    "# Bonus: TrollImage\n",
    "\n",
    "PIL on steroids: PIL that can handle masked arrays + various colorspaces\n",
    "\n",
    "[DOCS](https://trollimage.readthedocs.io)"
   ]
  },
  {
   "cell_type": "code",
   "execution_count": null,
   "metadata": {},
   "outputs": [],
   "source": [
    "from trollimage.colormap import spectral, greys\n",
    "from trollimage.image import Image\n",
    "\n",
    "scn = Scene(platform_name=\"Terra\", sensor=\"modis\",\n",
    "                base_dir=\".\",\n",
    "                reader='hdfeos_l1b',\n",
    "                start_time=datetime(2017, 8, 26, 14, 35),\n",
    "                end_time=datetime(2017, 8, 26, 14, 45))\n",
    "\n",
    "scn.load(['32'])\n",
    "data = scn.datasets['32']\n",
    "\n",
    "img = Image(data, mode=\"L\")\n",
    "\n",
    "greys.set_range(-20 + 273.15, -10 + 273.15)\n",
    "spectral.set_range(-90 + 273.15, -20.00001 + 273.15)\n",
    "my_cm = spectral + greys\n",
    "img.colorize(my_cm)\n",
    "\n",
    "img.show()"
   ]
  },
  {
   "cell_type": "code",
   "execution_count": null,
   "metadata": {},
   "outputs": [],
   "source": [
    "from satpy.multiscene import MultiScene"
   ]
  },
  {
   "cell_type": "code",
   "execution_count": null,
   "metadata": {},
   "outputs": [],
   "source": [
    "scn1 = Scene(platform_name=\"Terra\", sensor=\"modis\", \n",
    "                base_dir=\".\",\n",
    "                reader='hdfeos_l1b',\n",
    "                start_time=datetime(2017, 8, 26, 14, 35),\n",
    "                end_time=datetime(2017, 8, 26, 14, 39))\n",
    "\n",
    "scn2 = Scene(platform_name=\"Terra\", sensor=\"modis\",\n",
    "                base_dir=\".\",\n",
    "                reader='hdfeos_l1b',\n",
    "                start_time=datetime(2017, 8, 26, 13, 0),\n",
    "                end_time=datetime(2017, 8, 26, 13, 5))\n",
    "\n",
    "scenes = [scn1, scn2]\n",
    "\n",
    "mscn = MultiScene(scenes)\n",
    "mscn.load(['true_color'])\n",
    "mscn = mscn.resample('fram')\n",
    "scn = mscn.blend()\n",
    "scn.save_dataset('true_color', '/tmp/blend.png')\n"
   ]
  }
 ],
 "metadata": {
  "kernelspec": {
   "display_name": "Python 2",
   "language": "python",
   "name": "python2"
  },
  "language_info": {
   "codemirror_mode": {
    "name": "ipython",
    "version": 2
   },
   "file_extension": ".py",
   "mimetype": "text/x-python",
   "name": "python",
   "nbconvert_exporter": "python",
   "pygments_lexer": "ipython2",
   "version": "2.7.14"
  }
 },
 "nbformat": 4,
 "nbformat_minor": 2
}
