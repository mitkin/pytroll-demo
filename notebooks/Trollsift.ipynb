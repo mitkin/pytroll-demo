{
 "cells": [
  {
   "cell_type": "markdown",
   "metadata": {},
   "source": [
    "# Trollsift\n",
    "\n",
    "Trollsift is a small library to extract meaningful information from the filenames. RTD [here](http://trollsift.readthedocs.io/en/latest/).\n",
    "\n",
    "```gherkin\n",
    "The problem:\n",
    "    When a filename \"/foo/bar/MODIS_Aqua_MOD02QKM_20171010T1810Z.hdf\" is given\n",
    "    Retrieve platform name, product name and start_time\n",
    "```"
   ]
  },
  {
   "cell_type": "markdown",
   "metadata": {},
   "source": [
    "# install with pip\n",
    "```python\n",
    "    >>> pip install trollsift\n",
    "```"
   ]
  },
  {
   "cell_type": "code",
   "execution_count": null,
   "metadata": {},
   "outputs": [],
   "source": [
    "# Parse\n",
    "from trollsift import Parser\n",
    "\n",
    "s = \"/foo/bar/MODIS_Aqua_MOD02QKM_20171010T1810Z.hdf\"\n",
    "p = Parser(\"/foo/{directory}/{sensor:s}_{platform:s}_MOD02{resolution:1s}KM_{time:%Y%m%dT%H%MZ}.hdf\")\n",
    "result = p.parse(s)"
   ]
  },
  {
   "cell_type": "code",
   "execution_count": null,
   "metadata": {},
   "outputs": [],
   "source": [
    "import datetime\n",
    "\n",
    "#Compose\n",
    "path = p.compose({'time':datetime.datetime(2015,5,10,10,1),\n",
    "           'sensor': 'AMSRE',\n",
    "           'directory': 'new',\n",
    "           'platform': 'AQUA',\n",
    "           'resolution': '1'})"
   ]
  }
 ],
 "metadata": {
  "kernelspec": {
   "display_name": "Python 2",
   "language": "python",
   "name": "python2"
  },
  "language_info": {
   "codemirror_mode": {
    "name": "ipython",
    "version": 2
   },
   "file_extension": ".py",
   "mimetype": "text/x-python",
   "name": "python",
   "nbconvert_exporter": "python",
   "pygments_lexer": "ipython2",
   "version": "2.7.14"
  }
 },
 "nbformat": 4,
 "nbformat_minor": 2
}
