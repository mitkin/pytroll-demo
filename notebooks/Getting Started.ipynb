{
 "cells": [
  {
   "cell_type": "markdown",
   "metadata": {},
   "source": [
    "# PyTroll\n",
    "> Pytroll is an easy to use, modular, free and open source python framework for the processing of earth observation satellite data. The provided python packages are designed to be used both in R&D environments and in 24/7 operational production. The focus is on atmospheric applications and imaging sensors, but as seen from the list of supported satellite sensors below the data that can be handled by Pytroll allows the usage in a wide range of earth sciences.\n",
    "\n",
    "# Useful links\n",
    "* [PyTroll presentation online](https://docs.google.com/presentation/d/1nGF8yVPuk7ll5-23n0uJmZkNukAm6BkiofdPlGOLR0I/edit#slide=id.p)\n",
    "\n",
    "* [Github repository](https://github.com/pytroll)\n",
    "\n",
    "* [Slack](pytroll.slack.com)\n",
    "\n",
    "* [Example gallery](https://github.com/pytroll/pytroll-examples)"
   ]
  },
  {
   "cell_type": "markdown",
   "metadata": {},
   "source": [
    "# Some PyTroll packages\n",
    "*Python2.7 and Python3 compatible!*\n",
    "\n",
    "* TrollSift - extract information from the filenames\n",
    "* *Pyresample* - Regular and native (irregular) resampling\n",
    "* *SatPy* - Manipulating satellite scenes\n",
    "* *Geotiepoints* - GCPs to grid\n",
    "* *Pyorbital*\n",
    "* *Pyspectral*\n"
   ]
  },
  {
   "cell_type": "markdown",
   "metadata": {},
   "source": [
    "# SatPy\n",
    " [SatPy formats](http://satpy.readthedocs.io/en/latest/)"
   ]
  },
  {
   "cell_type": "markdown",
   "metadata": {},
   "source": [
    "# Getting started\n",
    "\n",
    "Get the repository with this notebook\n",
    "\n",
    "```bash\n",
    "    git clone https://github.com/mitkin/pytroll-demo\n",
    "\n",
    "```\n",
    "\n",
    "Install `virtualenv` package and activate `pytroll` Python virtual environment. Install PyTroll packages in the new environment.\n",
    "\n",
    "Assuming we are working on a Linux machine (or \\*nix terminal on Windows), and `pip` is available do:\n",
    "\n",
    "```bash\n",
    "    pip install virtualenv\n",
    "    virtualenv pytroll --python=python2\n",
    "    source pytroll/bin/activate\n",
    "    xargs -L 1 pip install --upgrade < requirements.txt\n",
    "```\n",
    "\n",
    "## Get Sentinel data\n",
    "\n",
    "```\n",
    "    sentinelsat -u <scihub_user_name> -p <password> --uuid 9985f71e-3f63-4864-a97b-9ca0fcb391c8 -d\n",
    "    unzip S1A_EW_GRDM_1SDH_20171009T055107_20171009T055152_018732_01F9B5_BB0E.zip\n",
    "```"
   ]
  }
 ],
 "metadata": {
  "kernelspec": {
   "display_name": "Python 3",
   "language": "python",
   "name": "python3"
  },
  "language_info": {
   "codemirror_mode": {
    "name": "ipython",
    "version": 2
   },
   "file_extension": ".py",
   "mimetype": "text/x-python",
   "name": "python",
   "nbconvert_exporter": "python",
   "pygments_lexer": "ipython2",
   "version": "2.7.14"
  }
 },
 "nbformat": 4,
 "nbformat_minor": 2
}
